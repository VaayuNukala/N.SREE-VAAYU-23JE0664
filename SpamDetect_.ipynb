{
 "cells": [
  {
   "cell_type": "markdown",
   "source": [
    "Imports"
   ],
   "metadata": {
    "id": "sU2qJlUh8huB"
   }
  },
  {
   "cell_type": "code",
   "execution_count": null,
   "metadata": {
    "id": "8RZOuS9LWQvv"
   },
   "outputs": [],
   "source": [
    "import pandas as pd\n",
    "from sklearn.feature_extraction.text import TfidfVectorizer\n",
    "from sklearn.linear_model import LogisticRegression\n",
    "from sklearn.pipeline import Pipeline\n",
    "from sklearn.metrics import accuracy_score, precision_score, recall_score, f1_score, classification_report, confusion_matrix\n",
    "import seaborn as sns\n",
    "import matplotlib.pyplot as plt\n"
   ]
  },
  {
   "cell_type": "markdown",
   "source": [
    "Bringing in the data"
   ],
   "metadata": {
    "id": "oKiDJ4_tCCJb"
   }
  },
  {
   "cell_type": "code",
   "source": [
    "# get data files\n",
    "!wget https://cdn.freecodecamp.org/project-data/sms/train-data.tsv\n",
    "!wget https://cdn.freecodecamp.org/project-data/sms/valid-data.tsv\n",
    "\n",
    "train_file_path = \"train-data.tsv\"\n",
    "test_file_path = \"valid-data.tsv\""
   ],
   "metadata": {
    "id": "_NrleEq6CA3Q"
   },
   "execution_count": null,
   "outputs": []
  },
  {
   "cell_type": "markdown",
   "source": [
    "Load and Clean Training Data"
   ],
   "metadata": {
    "id": "yesCJFte8gjM"
   }
  },
  {
   "cell_type": "code",
   "source": [
    "train_data=pd.read_csv(\"train-data.tsv\",sep=\"\\t\",header=None,names=[\"label\",\"message\"])\n",
    "train_data['label']=train_data['label'].str.strip().str.lower()\n"
   ],
   "metadata": {
    "id": "ngVYzEsy8Ufo"
   },
   "execution_count": null,
   "outputs": []
  },
  {
   "cell_type": "markdown",
   "source": [
    "Train Model"
   ],
   "metadata": {
    "id": "7W93kz9z8tlO"
   }
  },
  {
   "cell_type": "code",
   "source": [
    "model=Pipeline([\n",
    "    ('tfidf',TfidfVectorizer()),\n",
    "    ('clf',LogisticRegression(max_iter=1000))\n",
    "])\n",
    "model.fit(train_data['message'],train_data['label'])\n"
   ],
   "metadata": {
    "id": "mJNs-dXG8mo-"
   },
   "execution_count": null,
   "outputs": []
  },
  {
   "cell_type": "markdown",
   "source": [
    "Prediction Function"
   ],
   "metadata": {
    "id": "cyIBAwVz86f6"
   }
  },
  {
   "cell_type": "code",
   "source": [
    "def predict_message(message,threshold=0.3):\n",
    "    probas= model.predict_proba([message])[0]\n",
    "    spam_prob=probas[model.classes_.tolist().index(\"spam\")]\n",
    "    label=\"spam\" if spam_prob >= threshold else \"ham\"\n",
    "    return [spam_prob, label]\n"
   ],
   "metadata": {
    "id": "_FPOSgFQ8zuK"
   },
   "execution_count": null,
   "outputs": []
  },
  {
   "cell_type": "markdown",
   "source": [
    "Evaluation"
   ],
   "metadata": {
    "id": "E4Tn-2Ol9POC"
   }
  },
  {
   "cell_type": "code",
   "source": [
    "test_data =pd.read_csv(\"valid-data.tsv\", sep=\"\\t\", header=None, names=[\"label\", \"message\"])\n",
    "test_data['label'] =test_data['label'].str.strip().str.lower()\n",
    "y_true =test_data['label']\n",
    "y_pred =[predict_message(msg)[1] for msg in test_data['message']]\n",
    "acc =accuracy_score(y_true, y_pred)\n",
    "prec =precision_score(y_true, y_pred, pos_label='spam')\n",
    "rec =recall_score(y_true, y_pred, pos_label='spam')\n",
    "f1 =f1_score(y_true, y_pred, pos_label='spam')\n",
    "print(\"\ud83d\udcca Model Evaluation:\")\n",
    "print(f\"Accuracy :{acc:.4f}\")\n",
    "print(f\"Precision:{prec:.4f}\")\n",
    "print(f\"Recall   :{rec:.4f}\")\n",
    "print(f\"F1 Score :{f1:.4f}\")\n",
    "print(\"\\nDetailed Report:\\n\")\n",
    "print(classification_report(y_true, y_pred,target_names=[\"ham\", \"spam\"]))\n"
   ],
   "metadata": {
    "id": "Dm8xmY6_89VJ"
   },
   "execution_count": null,
   "outputs": []
  },
  {
   "cell_type": "markdown",
   "source": [
    "Confusion Matrix"
   ],
   "metadata": {
    "id": "KHqMf30Q9fDc"
   }
  },
  {
   "cell_type": "code",
   "source": [
    "cm =confusion_matrix(y_true,y_pred,labels=[\"ham\",\"spam\"])\n",
    "sns.heatmap(cm,annot=True,fmt='d',cmap='Blues',xticklabels=[\"ham\",\"spam\"],yticklabels=[\"ham\",\"spam\"])\n",
    "plt.xlabel(\"Predicted\")\n",
    "plt.ylabel(\"Actual\")\n",
    "plt.title(\"Confusion Matrix\")\n",
    "plt.show()"
   ],
   "metadata": {
    "id": "VYqw2zBo9S2Y"
   },
   "execution_count": null,
   "outputs": []
  },
  {
   "cell_type": "code",
   "execution_count": null,
   "metadata": {
    "id": "Dxotov85SjsC"
   },
   "outputs": [],
   "source": [
    "def test_predictions():\n",
    "  test_messages = [\"how are you doing today\",\n",
    "                   \"sale today! to stop texts call 98912460324\",\n",
    "                   \"i dont want to go. can we try it a different day? available sat\",\n",
    "                   \"our new mobile video service is live. just install on your phone to start watching.\",\n",
    "                   \"you have won \u00a31000 cash! call to claim your prize.\",\n",
    "                   \"i'll bring it tomorrow. don't forget the milk.\",\n",
    "                   \"wow, is your arm alright. that happened to me one time too\"\n",
    "                  ]\n",
    "\n",
    "  test_answers = [\"ham\", \"spam\", \"ham\", \"spam\", \"spam\", \"ham\", \"ham\"]\n",
    "  passed = True\n",
    "\n",
    "  for msg, ans in zip(test_messages, test_answers):\n",
    "    print(predict_message(msg))\n",
    "    prediction=predict_message(msg)\n",
    "    if prediction[1] != ans:\n",
    "      passed = False\n",
    "\n",
    "  if passed:\n",
    "    print(\"Passed\")\n",
    "  else:\n",
    "    print(\"Failed\")\n",
    "\n",
    "test_predictions()\n"
   ]
  }
 ],
 "metadata": {
  "colab": {
   "name": "fcc_sms_text_classification.ipynb",
   "private_outputs": true,
   "provenance": []
  },
  "kernelspec": {
   "display_name": "Python 3",
   "name": "python3"
  },
  "language_info": {}
 },
 "nbformat": 4,
 "nbformat_minor": 0
}